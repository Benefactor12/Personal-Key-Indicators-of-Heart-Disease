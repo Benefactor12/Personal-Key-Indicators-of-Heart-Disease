{
 "cells": [
  {
   "cell_type": "markdown",
   "id": "4359e3d5",
   "metadata": {},
   "source": [
    "# Personal Key Indicators of Heart Disease"
   ]
  },
  {
   "cell_type": "markdown",
   "id": "1323b289",
   "metadata": {},
   "source": [
    "`Goal:` Explore dataset and build the best predictive machine learning model possible for classification people with heart disease.\n",
    "\n",
    "Data was taken from Kaggle https://www.kaggle.com/datasets/kamilpytlak/personal-key-indicators-of-heart-disease"
   ]
  },
  {
   "cell_type": "code",
   "execution_count": 2,
   "id": "03ee28b1",
   "metadata": {},
   "outputs": [],
   "source": [
    "# Importing the most necessary libraries for exploratory data analysis\n",
    "import pandas as pd\n",
    "import numpy as np\n",
    "import matplotlib.pyplot as plt\n",
    "import seaborn as sns"
   ]
  },
  {
   "cell_type": "code",
   "execution_count": 3,
   "id": "17dda213",
   "metadata": {},
   "outputs": [],
   "source": [
    "# Import the dataset\n",
    "heart_data = pd.read_csv('heart_2020_cleaned.csv')"
   ]
  },
  {
   "cell_type": "markdown",
   "id": "da37fe29",
   "metadata": {},
   "source": [
    "The `heart_2020_cleaned.csv` contains information on the different aspects of person's health. The columns in the data set include:\n",
    "\n",
    "- **HeartDisease** - Respondents that have ever reported having coronary heart disease (CHD) or myocardial infarction (MI)\n",
    "- **BMI** - Body Mass Index (BMI)\n",
    "- **Smoking** - Have you smoked at least 100 cigarettes in your entire life?\n",
    "- **AlcoholDrinking** - Heavy drinkers (adult men having more than 14 drinks per week and adult women having more than 7 drinks per week\n",
    "- **Stroke** - (Ever told) (you had) a stroke?\n",
    "- **PhysicalHealth** - Now thinking about your physical health, which includes physical illness and injury, for how many days during the past 30 days was your physical health not good?\n",
    "- **MentalHealth** - Thinking about your mental health, for how many days during the past 30 days was your mental health not good?\n",
    "- **DiffWalking** - Do you have serious difficulty walking or climbing stairs?\n",
    "- **Sex** - Are you male or female?\n",
    "- **AgeCategory** - Fourteen-level age category\n",
    "- **Rase** - Imputed race/ethnicity value\n",
    "- **Diabetic** - (Ever told) (you had) diabetes?\n",
    "- **PhysicalActivity** - Adults who reported doing physical activity or exercise during the past 30 days other than their regular job\n",
    "- **GenHealth** - Would you say that in general your health is...\n",
    "- **SleepTime** - On average, how many hours of sleep do you get in a 24-hour period?\n",
    "- **Asthma** - (Ever told) (you had) asthma?\n",
    "- **KidneyDisease** - Not including kidney stones, bladder infection or incontinence, were you ever told you had kidney disease?\n",
    "- **SkinCancer** - (Ever told) (you had) skin cancer?"
   ]
  },
  {
   "cell_type": "code",
   "execution_count": 4,
   "id": "d8f632a7",
   "metadata": {},
   "outputs": [
    {
     "data": {
      "text/html": [
       "<div>\n",
       "<style scoped>\n",
       "    .dataframe tbody tr th:only-of-type {\n",
       "        vertical-align: middle;\n",
       "    }\n",
       "\n",
       "    .dataframe tbody tr th {\n",
       "        vertical-align: top;\n",
       "    }\n",
       "\n",
       "    .dataframe thead th {\n",
       "        text-align: right;\n",
       "    }\n",
       "</style>\n",
       "<table border=\"1\" class=\"dataframe\">\n",
       "  <thead>\n",
       "    <tr style=\"text-align: right;\">\n",
       "      <th></th>\n",
       "      <th>HeartDisease</th>\n",
       "      <th>BMI</th>\n",
       "      <th>Smoking</th>\n",
       "      <th>AlcoholDrinking</th>\n",
       "      <th>Stroke</th>\n",
       "      <th>PhysicalHealth</th>\n",
       "      <th>MentalHealth</th>\n",
       "      <th>DiffWalking</th>\n",
       "      <th>Sex</th>\n",
       "      <th>AgeCategory</th>\n",
       "      <th>Race</th>\n",
       "      <th>Diabetic</th>\n",
       "      <th>PhysicalActivity</th>\n",
       "      <th>GenHealth</th>\n",
       "      <th>SleepTime</th>\n",
       "      <th>Asthma</th>\n",
       "      <th>KidneyDisease</th>\n",
       "      <th>SkinCancer</th>\n",
       "    </tr>\n",
       "  </thead>\n",
       "  <tbody>\n",
       "    <tr>\n",
       "      <th>0</th>\n",
       "      <td>No</td>\n",
       "      <td>16.60</td>\n",
       "      <td>Yes</td>\n",
       "      <td>No</td>\n",
       "      <td>No</td>\n",
       "      <td>3.0</td>\n",
       "      <td>30.0</td>\n",
       "      <td>No</td>\n",
       "      <td>Female</td>\n",
       "      <td>55-59</td>\n",
       "      <td>White</td>\n",
       "      <td>Yes</td>\n",
       "      <td>Yes</td>\n",
       "      <td>Very good</td>\n",
       "      <td>5.0</td>\n",
       "      <td>Yes</td>\n",
       "      <td>No</td>\n",
       "      <td>Yes</td>\n",
       "    </tr>\n",
       "    <tr>\n",
       "      <th>1</th>\n",
       "      <td>No</td>\n",
       "      <td>20.34</td>\n",
       "      <td>No</td>\n",
       "      <td>No</td>\n",
       "      <td>Yes</td>\n",
       "      <td>0.0</td>\n",
       "      <td>0.0</td>\n",
       "      <td>No</td>\n",
       "      <td>Female</td>\n",
       "      <td>80 or older</td>\n",
       "      <td>White</td>\n",
       "      <td>No</td>\n",
       "      <td>Yes</td>\n",
       "      <td>Very good</td>\n",
       "      <td>7.0</td>\n",
       "      <td>No</td>\n",
       "      <td>No</td>\n",
       "      <td>No</td>\n",
       "    </tr>\n",
       "    <tr>\n",
       "      <th>2</th>\n",
       "      <td>No</td>\n",
       "      <td>26.58</td>\n",
       "      <td>Yes</td>\n",
       "      <td>No</td>\n",
       "      <td>No</td>\n",
       "      <td>20.0</td>\n",
       "      <td>30.0</td>\n",
       "      <td>No</td>\n",
       "      <td>Male</td>\n",
       "      <td>65-69</td>\n",
       "      <td>White</td>\n",
       "      <td>Yes</td>\n",
       "      <td>Yes</td>\n",
       "      <td>Fair</td>\n",
       "      <td>8.0</td>\n",
       "      <td>Yes</td>\n",
       "      <td>No</td>\n",
       "      <td>No</td>\n",
       "    </tr>\n",
       "    <tr>\n",
       "      <th>3</th>\n",
       "      <td>No</td>\n",
       "      <td>24.21</td>\n",
       "      <td>No</td>\n",
       "      <td>No</td>\n",
       "      <td>No</td>\n",
       "      <td>0.0</td>\n",
       "      <td>0.0</td>\n",
       "      <td>No</td>\n",
       "      <td>Female</td>\n",
       "      <td>75-79</td>\n",
       "      <td>White</td>\n",
       "      <td>No</td>\n",
       "      <td>No</td>\n",
       "      <td>Good</td>\n",
       "      <td>6.0</td>\n",
       "      <td>No</td>\n",
       "      <td>No</td>\n",
       "      <td>Yes</td>\n",
       "    </tr>\n",
       "    <tr>\n",
       "      <th>4</th>\n",
       "      <td>No</td>\n",
       "      <td>23.71</td>\n",
       "      <td>No</td>\n",
       "      <td>No</td>\n",
       "      <td>No</td>\n",
       "      <td>28.0</td>\n",
       "      <td>0.0</td>\n",
       "      <td>Yes</td>\n",
       "      <td>Female</td>\n",
       "      <td>40-44</td>\n",
       "      <td>White</td>\n",
       "      <td>No</td>\n",
       "      <td>Yes</td>\n",
       "      <td>Very good</td>\n",
       "      <td>8.0</td>\n",
       "      <td>No</td>\n",
       "      <td>No</td>\n",
       "      <td>No</td>\n",
       "    </tr>\n",
       "  </tbody>\n",
       "</table>\n",
       "</div>"
      ],
      "text/plain": [
       "  HeartDisease    BMI Smoking AlcoholDrinking Stroke  PhysicalHealth  \\\n",
       "0           No  16.60     Yes              No     No             3.0   \n",
       "1           No  20.34      No              No    Yes             0.0   \n",
       "2           No  26.58     Yes              No     No            20.0   \n",
       "3           No  24.21      No              No     No             0.0   \n",
       "4           No  23.71      No              No     No            28.0   \n",
       "\n",
       "   MentalHealth DiffWalking     Sex  AgeCategory   Race Diabetic  \\\n",
       "0          30.0          No  Female        55-59  White      Yes   \n",
       "1           0.0          No  Female  80 or older  White       No   \n",
       "2          30.0          No    Male        65-69  White      Yes   \n",
       "3           0.0          No  Female        75-79  White       No   \n",
       "4           0.0         Yes  Female        40-44  White       No   \n",
       "\n",
       "  PhysicalActivity  GenHealth  SleepTime Asthma KidneyDisease SkinCancer  \n",
       "0              Yes  Very good        5.0    Yes            No        Yes  \n",
       "1              Yes  Very good        7.0     No            No         No  \n",
       "2              Yes       Fair        8.0    Yes            No         No  \n",
       "3               No       Good        6.0     No            No        Yes  \n",
       "4              Yes  Very good        8.0     No            No         No  "
      ]
     },
     "execution_count": 4,
     "metadata": {},
     "output_type": "execute_result"
    }
   ],
   "source": [
    "# See first 5 rows\n",
    "heart_data.head()"
   ]
  },
  {
   "cell_type": "code",
   "execution_count": 5,
   "id": "75436a91",
   "metadata": {},
   "outputs": [
    {
     "name": "stdout",
     "output_type": "stream",
     "text": [
      "<class 'pandas.core.frame.DataFrame'>\n",
      "RangeIndex: 319795 entries, 0 to 319794\n",
      "Data columns (total 18 columns):\n",
      " #   Column            Non-Null Count   Dtype  \n",
      "---  ------            --------------   -----  \n",
      " 0   HeartDisease      319795 non-null  object \n",
      " 1   BMI               319795 non-null  float64\n",
      " 2   Smoking           319795 non-null  object \n",
      " 3   AlcoholDrinking   319795 non-null  object \n",
      " 4   Stroke            319795 non-null  object \n",
      " 5   PhysicalHealth    319795 non-null  float64\n",
      " 6   MentalHealth      319795 non-null  float64\n",
      " 7   DiffWalking       319795 non-null  object \n",
      " 8   Sex               319795 non-null  object \n",
      " 9   AgeCategory       319795 non-null  object \n",
      " 10  Race              319795 non-null  object \n",
      " 11  Diabetic          319795 non-null  object \n",
      " 12  PhysicalActivity  319795 non-null  object \n",
      " 13  GenHealth         319795 non-null  object \n",
      " 14  SleepTime         319795 non-null  float64\n",
      " 15  Asthma            319795 non-null  object \n",
      " 16  KidneyDisease     319795 non-null  object \n",
      " 17  SkinCancer        319795 non-null  object \n",
      "dtypes: float64(4), object(14)\n",
      "memory usage: 43.9+ MB\n"
     ]
    }
   ],
   "source": [
    "# Check the datatypes of dataset's columns\n",
    "heart_data.info()"
   ]
  },
  {
   "cell_type": "code",
   "execution_count": 6,
   "id": "2879a0ef",
   "metadata": {},
   "outputs": [
    {
     "data": {
      "text/plain": [
       "array(['White', 'Black', 'Asian', 'American Indian/Alaskan Native',\n",
       "       'Other', 'Hispanic'], dtype=object)"
      ]
     },
     "execution_count": 6,
     "metadata": {},
     "output_type": "execute_result"
    }
   ],
   "source": [
    "# Unique values of Race column\n",
    "heart_data.Race.unique()"
   ]
  },
  {
   "cell_type": "code",
   "execution_count": 7,
   "id": "cd07af76",
   "metadata": {},
   "outputs": [
    {
     "name": "stdout",
     "output_type": "stream",
     "text": [
      "['Yes' 'No' 'No, borderline diabetes' 'Yes (during pregnancy)']\n"
     ]
    }
   ],
   "source": [
    "# Unique values of Race column\n",
    "heart_data.GenHealth.unique()\n",
    "print(heart_data.Diabetic.unique())"
   ]
  },
  {
   "cell_type": "code",
   "execution_count": 8,
   "id": "841f44a8",
   "metadata": {},
   "outputs": [
    {
     "data": {
      "text/plain": [
       "array(['55-59', '80 or older', '65-69', '75-79', '40-44', '70-74',\n",
       "       '60-64', '50-54', '45-49', '18-24', '35-39', '30-34', '25-29'],\n",
       "      dtype=object)"
      ]
     },
     "execution_count": 8,
     "metadata": {},
     "output_type": "execute_result"
    }
   ],
   "source": [
    "# Unique values of AgeCategory column\n",
    "heart_data.AgeCategory.unique()"
   ]
  },
  {
   "cell_type": "code",
   "execution_count": 9,
   "id": "68a8df04",
   "metadata": {},
   "outputs": [
    {
     "data": {
      "text/plain": [
       "HeartDisease        0\n",
       "BMI                 0\n",
       "Smoking             0\n",
       "AlcoholDrinking     0\n",
       "Stroke              0\n",
       "PhysicalHealth      0\n",
       "MentalHealth        0\n",
       "DiffWalking         0\n",
       "Sex                 0\n",
       "AgeCategory         0\n",
       "Race                0\n",
       "Diabetic            0\n",
       "PhysicalActivity    0\n",
       "GenHealth           0\n",
       "SleepTime           0\n",
       "Asthma              0\n",
       "KidneyDisease       0\n",
       "SkinCancer          0\n",
       "dtype: int64"
      ]
     },
     "execution_count": 9,
     "metadata": {},
     "output_type": "execute_result"
    }
   ],
   "source": [
    "# Check for null values\n",
    "heart_data.isna().sum()"
   ]
  },
  {
   "cell_type": "code",
   "execution_count": 10,
   "id": "f02725f8",
   "metadata": {},
   "outputs": [],
   "source": [
    "# Now I need to prepare the data for use in machine learning model\n",
    "heart_data['HeartDisease'] = heart_data.HeartDisease.map({'Yes':1, 'No':0})\n",
    "heart_data['Smoking'] = heart_data.Smoking.map({'Yes':1, 'No':0})\n",
    "heart_data['AlcoholDrinking'] = heart_data.AlcoholDrinking.map({'Yes':1, 'No':0})\n",
    "heart_data['Stroke'] = heart_data.Stroke.map({'Yes':1, 'No':0})\n",
    "heart_data['DiffWalking'] = heart_data.DiffWalking.map({'Yes':1, 'No':0})\n",
    "heart_data['Sex'] = heart_data.Sex.map({'Male':1, 'Female':0})\n",
    "heart_data['AgeCategory'] = heart_data.AgeCategory.map({'18-24':1, '25-29':2, '30-34':3, '35-39':4, '40-44':5, '45-49':6, '50-54':7, '55-59':8, '60-64':9, '65-69':10, '70-74':11, '75-79':12, '80 or older':13})\n",
    "heart_data = heart_data.drop('Race', axis=1)\n",
    "heart_data['Diabetic'] = heart_data.Diabetic.map({'Yes':1, 'No':0, 'No, borderline diabetes':0, 'Yes (during pregnancy)':1})\n",
    "heart_data['PhysicalActivity'] = heart_data.PhysicalActivity.map({'Yes':1, 'No':0})\n",
    "heart_data['GenHealth'] = heart_data.GenHealth.map({'Excellent':3, 'Very good':2, 'Good':1, 'Fair':0, 'Poor':-1})\n",
    "heart_data['Asthma'] = heart_data.Asthma.map({'Yes':1, 'No':0})\n",
    "heart_data['KidneyDisease'] = heart_data.KidneyDisease.map({'Yes':1, 'No':0})\n",
    "heart_data['SkinCancer'] = heart_data.SkinCancer.map({'Yes':1, 'No':0})"
   ]
  },
  {
   "cell_type": "code",
   "execution_count": 11,
   "id": "f4f2dfbc",
   "metadata": {},
   "outputs": [
    {
     "data": {
      "text/html": [
       "<div>\n",
       "<style scoped>\n",
       "    .dataframe tbody tr th:only-of-type {\n",
       "        vertical-align: middle;\n",
       "    }\n",
       "\n",
       "    .dataframe tbody tr th {\n",
       "        vertical-align: top;\n",
       "    }\n",
       "\n",
       "    .dataframe thead th {\n",
       "        text-align: right;\n",
       "    }\n",
       "</style>\n",
       "<table border=\"1\" class=\"dataframe\">\n",
       "  <thead>\n",
       "    <tr style=\"text-align: right;\">\n",
       "      <th></th>\n",
       "      <th>HeartDisease</th>\n",
       "      <th>BMI</th>\n",
       "      <th>Smoking</th>\n",
       "      <th>AlcoholDrinking</th>\n",
       "      <th>Stroke</th>\n",
       "      <th>PhysicalHealth</th>\n",
       "      <th>MentalHealth</th>\n",
       "      <th>DiffWalking</th>\n",
       "      <th>Sex</th>\n",
       "      <th>AgeCategory</th>\n",
       "      <th>Diabetic</th>\n",
       "      <th>PhysicalActivity</th>\n",
       "      <th>GenHealth</th>\n",
       "      <th>SleepTime</th>\n",
       "      <th>Asthma</th>\n",
       "      <th>KidneyDisease</th>\n",
       "      <th>SkinCancer</th>\n",
       "    </tr>\n",
       "  </thead>\n",
       "  <tbody>\n",
       "    <tr>\n",
       "      <th>0</th>\n",
       "      <td>0</td>\n",
       "      <td>16.60</td>\n",
       "      <td>1</td>\n",
       "      <td>0</td>\n",
       "      <td>0</td>\n",
       "      <td>3.0</td>\n",
       "      <td>30.0</td>\n",
       "      <td>0</td>\n",
       "      <td>0</td>\n",
       "      <td>8</td>\n",
       "      <td>1</td>\n",
       "      <td>1</td>\n",
       "      <td>2</td>\n",
       "      <td>5.0</td>\n",
       "      <td>1</td>\n",
       "      <td>0</td>\n",
       "      <td>1</td>\n",
       "    </tr>\n",
       "    <tr>\n",
       "      <th>1</th>\n",
       "      <td>0</td>\n",
       "      <td>20.34</td>\n",
       "      <td>0</td>\n",
       "      <td>0</td>\n",
       "      <td>1</td>\n",
       "      <td>0.0</td>\n",
       "      <td>0.0</td>\n",
       "      <td>0</td>\n",
       "      <td>0</td>\n",
       "      <td>13</td>\n",
       "      <td>0</td>\n",
       "      <td>1</td>\n",
       "      <td>2</td>\n",
       "      <td>7.0</td>\n",
       "      <td>0</td>\n",
       "      <td>0</td>\n",
       "      <td>0</td>\n",
       "    </tr>\n",
       "    <tr>\n",
       "      <th>2</th>\n",
       "      <td>0</td>\n",
       "      <td>26.58</td>\n",
       "      <td>1</td>\n",
       "      <td>0</td>\n",
       "      <td>0</td>\n",
       "      <td>20.0</td>\n",
       "      <td>30.0</td>\n",
       "      <td>0</td>\n",
       "      <td>1</td>\n",
       "      <td>10</td>\n",
       "      <td>1</td>\n",
       "      <td>1</td>\n",
       "      <td>0</td>\n",
       "      <td>8.0</td>\n",
       "      <td>1</td>\n",
       "      <td>0</td>\n",
       "      <td>0</td>\n",
       "    </tr>\n",
       "    <tr>\n",
       "      <th>3</th>\n",
       "      <td>0</td>\n",
       "      <td>24.21</td>\n",
       "      <td>0</td>\n",
       "      <td>0</td>\n",
       "      <td>0</td>\n",
       "      <td>0.0</td>\n",
       "      <td>0.0</td>\n",
       "      <td>0</td>\n",
       "      <td>0</td>\n",
       "      <td>12</td>\n",
       "      <td>0</td>\n",
       "      <td>0</td>\n",
       "      <td>1</td>\n",
       "      <td>6.0</td>\n",
       "      <td>0</td>\n",
       "      <td>0</td>\n",
       "      <td>1</td>\n",
       "    </tr>\n",
       "    <tr>\n",
       "      <th>4</th>\n",
       "      <td>0</td>\n",
       "      <td>23.71</td>\n",
       "      <td>0</td>\n",
       "      <td>0</td>\n",
       "      <td>0</td>\n",
       "      <td>28.0</td>\n",
       "      <td>0.0</td>\n",
       "      <td>1</td>\n",
       "      <td>0</td>\n",
       "      <td>5</td>\n",
       "      <td>0</td>\n",
       "      <td>1</td>\n",
       "      <td>2</td>\n",
       "      <td>8.0</td>\n",
       "      <td>0</td>\n",
       "      <td>0</td>\n",
       "      <td>0</td>\n",
       "    </tr>\n",
       "  </tbody>\n",
       "</table>\n",
       "</div>"
      ],
      "text/plain": [
       "   HeartDisease    BMI  Smoking  AlcoholDrinking  Stroke  PhysicalHealth  \\\n",
       "0             0  16.60        1                0       0             3.0   \n",
       "1             0  20.34        0                0       1             0.0   \n",
       "2             0  26.58        1                0       0            20.0   \n",
       "3             0  24.21        0                0       0             0.0   \n",
       "4             0  23.71        0                0       0            28.0   \n",
       "\n",
       "   MentalHealth  DiffWalking  Sex  AgeCategory  Diabetic  PhysicalActivity  \\\n",
       "0          30.0            0    0            8         1                 1   \n",
       "1           0.0            0    0           13         0                 1   \n",
       "2          30.0            0    1           10         1                 1   \n",
       "3           0.0            0    0           12         0                 0   \n",
       "4           0.0            1    0            5         0                 1   \n",
       "\n",
       "   GenHealth  SleepTime  Asthma  KidneyDisease  SkinCancer  \n",
       "0          2        5.0       1              0           1  \n",
       "1          2        7.0       0              0           0  \n",
       "2          0        8.0       1              0           0  \n",
       "3          1        6.0       0              0           1  \n",
       "4          2        8.0       0              0           0  "
      ]
     },
     "execution_count": 11,
     "metadata": {},
     "output_type": "execute_result"
    }
   ],
   "source": [
    "# It seems like we successfully prepare our data for machine learning\n",
    "heart_data.head()"
   ]
  },
  {
   "cell_type": "code",
   "execution_count": 12,
   "id": "2e126eb2",
   "metadata": {},
   "outputs": [],
   "source": [
    "# Import everything for creating a machine learning model and feature selection\n",
    "from sklearn.model_selection import train_test_split\n",
    "from sklearn.linear_model import LogisticRegression\n",
    "from mlxtend.feature_selection import SequentialFeatureSelector as SFS"
   ]
  },
  {
   "cell_type": "code",
   "execution_count": 12,
   "id": "93e6ffb1",
   "metadata": {},
   "outputs": [],
   "source": [
    "# For this task I choose Logistic Regression machine learning algorithm\n",
    "# Split the data to training and test parts\n",
    "x = heart_data.drop('HeartDisease', axis=1)\n",
    "y = heart_data['HeartDisease']\n",
    "x_train, x_test, y_train, y_test = train_test_split(x, y, train_size=0.8, test_size=0.2, random_state=10)\n",
    "\n",
    "lr = LogisticRegression(max_iter=1000)"
   ]
  },
  {
   "cell_type": "code",
   "execution_count": 13,
   "id": "fa29fc76",
   "metadata": {},
   "outputs": [],
   "source": [
    "# I want to identify number of features that give the best performance by using Sequential Backward Selection\n",
    "features = []\n",
    "scores = []\n",
    "\n",
    "for i in range(1, 17):\n",
    "    sbs = SFS(\n",
    "        lr,\n",
    "        k_features = i,\n",
    "        forward = False,\n",
    "        floating = True,\n",
    "        scoring = 'accuracy',\n",
    "        cv = 0\n",
    "    )\n",
    "    sbs.fit(x_train, y_train)\n",
    "    features.append(sbs.subsets_[i]['feature_names'])\n",
    "    scores.append(sbs.subsets_[i]['avg_score'])"
   ]
  },
  {
   "cell_type": "code",
   "execution_count": 14,
   "id": "fb957394",
   "metadata": {},
   "outputs": [
    {
     "name": "stdout",
     "output_type": "stream",
     "text": [
      "[0.9143005675510875, 0.9150236870495161, 0.9149650557388327, 0.9151683109492018, 0.9151448584249284, 0.91546928501071, 0.9156608139589425, 0.915692083991307, 0.9156490876968058, 0.9157741678262638, 0.9157311715317625, 0.9157468065479448, 0.9156764489751247, 0.9156881752372614, 0.9156490876968058, 0.9155279163213934] \n",
      "\n",
      "The best score 0.9157741678262638 our model got when had 10 features \n",
      "\n",
      "('BMI', 'Smoking', 'Stroke', 'DiffWalking', 'Sex', 'AgeCategory', 'Diabetic', 'GenHealth', 'Asthma', 'KidneyDisease')\n"
     ]
    }
   ],
   "source": [
    "# I want to find the best score and features associated with it\n",
    "print(scores, '\\n')\n",
    "print('The best score {} our model got when had {} features'.format(max(scores), scores.index(max(scores))+1), '\\n')\n",
    "print(features[9])\n",
    "# ('BMI', 'Smoking', 'Stroke', 'DiffWalking', 'Sex', 'AgeCategory', 'Diabetic', 'GenHealth', 'Asthma', 'KidneyDisease')"
   ]
  },
  {
   "cell_type": "code",
   "execution_count": 13,
   "id": "cc8c9642",
   "metadata": {},
   "outputs": [
    {
     "name": "stdout",
     "output_type": "stream",
     "text": [
      "Score from running the model on test data 0.9161025031660908\n"
     ]
    }
   ],
   "source": [
    "# Split the data to training and test parts based on feature engineering from before\n",
    "X = heart_data[['BMI', 'Smoking', 'Stroke', 'DiffWalking', 'Sex', 'AgeCategory', 'Diabetic', 'GenHealth', 'Asthma', 'KidneyDisease']]\n",
    "Y = heart_data['HeartDisease']\n",
    "X_train, X_test, Y_train, Y_test = train_test_split(X, Y, train_size=0.8, test_size=0.2, random_state=10)\n",
    "\n",
    "lr_modified = LogisticRegression(max_iter=1000)\n",
    "lr_modified.fit(X_train.values, Y_train.values)\n",
    "print('Score from running the model on test data', lr_modified.score(X_test.values, Y_test.values))"
   ]
  },
  {
   "cell_type": "code",
   "execution_count": 14,
   "id": "3a9c1344",
   "metadata": {},
   "outputs": [
    {
     "name": "stdout",
     "output_type": "stream",
     "text": [
      "1. Body Mass in Kg, Height in m (like 75, 1.75)67.8, 1.73\n",
      "2. Have you smoked at least 100 cigarettes in your entire life? If Yes input 1, No input 00\n",
      "3. (Ever told) (you had) a stroke? If Yes input 1, No input 00\n",
      "4. Do you have serious difficulty walking or climbing stairs? If Yes input 1, No input 00\n",
      "5. Are you male or female? If you are male input 1, female input 01\n",
      "6. In what age category are you? 18-24:1, 25-29:2, 30-34:3, 35-39:4, 40-44:5, 45-49:6, 50-54:7, 55-59:8, 60-64:9, 65-69:10, 70-74:11, 75-79:12, 80 or older:131\n",
      "7. (Ever told) (you had) diabetes? If Yes input 1, No input 00\n",
      "8. Would you say that in general your health is Excellent:3, Very good:2, Good:1, Fair:0, Poor:-12\n",
      "9. (Ever told) (you had) asthma? If Yes input 1, No input 00\n",
      "10. Not including kidney stones, bladder infection or incontinence, were you ever told you had kidney disease? If Yes input 1, No input 00\n",
      "You most likely don't have heart disease\n",
      "The probability of you having a heart disease is 0.57 percent\n"
     ]
    }
   ],
   "source": [
    "# Creating an interface where everyone can find out their probability of having a heart disease\n",
    "def BMI(body_mass, height):\n",
    "    return round(body_mass/(height**2), 2)\n",
    "\n",
    "values = []\n",
    "body_mass, height = (input('1. Body Mass in Kg, Height in m (like 75, 1.75)')).split(',')\n",
    "values.append(BMI(float(body_mass), float(height)))\n",
    "values.append(int(input('2. Have you smoked at least 100 cigarettes in your entire life? If Yes input 1, No input 0')))\n",
    "values.append(int(input('3. (Ever told) (you had) a stroke? If Yes input 1, No input 0')))\n",
    "values.append(int(input('4. Do you have serious difficulty walking or climbing stairs? If Yes input 1, No input 0')))\n",
    "values.append(int(input('5. Are you male or female? If you are male input 1, female input 0')))\n",
    "values.append(int(input('6. In what age category are you? 18-24:1, 25-29:2, 30-34:3, 35-39:4, 40-44:5, 45-49:6, 50-54:7, 55-59:8, 60-64:9, 65-69:10, 70-74:11, 75-79:12, 80 or older:13')))\n",
    "values.append(int(input('7. (Ever told) (you had) diabetes? If Yes input 1, No input 0')))\n",
    "values.append(int(input('8. Would you say that in general your health is Excellent:3, Very good:2, Good:1, Fair:0, Poor:-1')))\n",
    "values.append(int(input('9. (Ever told) (you had) asthma? If Yes input 1, No input 0')))\n",
    "values.append(int(input('10. Not including kidney stones, bladder infection or incontinence, were you ever told you had kidney disease? If Yes input 1, No input 0')))\n",
    "\n",
    "values = np.array(values).reshape(1, -1)\n",
    "if lr_modified.predict(values)[0] == 1:\n",
    "    print('There is a high chance that you have heart disease')\n",
    "else:\n",
    "    print(\"You most likely don't have heart disease\")\n",
    "print('The probability of you having a heart disease is', round(lr_modified.predict_proba(values)[0][1]*100, 2), 'percent')"
   ]
  },
  {
   "cell_type": "markdown",
   "id": "f5fbed60",
   "metadata": {},
   "source": [
    "## `Conclusion`\n",
    "\n",
    "I explored the dataset, prepared it for machine learning process and created Logistic Regression machine learning model to classify whether a person have a heart disease or not with 91.61% accuracy on test data."
   ]
  }
 ],
 "metadata": {
  "kernelspec": {
   "display_name": "Python 3 (ipykernel)",
   "language": "python",
   "name": "python3"
  },
  "language_info": {
   "codemirror_mode": {
    "name": "ipython",
    "version": 3
   },
   "file_extension": ".py",
   "mimetype": "text/x-python",
   "name": "python",
   "nbconvert_exporter": "python",
   "pygments_lexer": "ipython3",
   "version": "3.9.7"
  }
 },
 "nbformat": 4,
 "nbformat_minor": 5
}
